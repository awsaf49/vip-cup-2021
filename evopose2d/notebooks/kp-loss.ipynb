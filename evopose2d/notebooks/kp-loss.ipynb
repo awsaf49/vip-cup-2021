{
    "cells": [
        {
            "cell_type": "code",
            "execution_count": 115,
            "source": [
                "import tensorflow as tf\n",
                "import numpy as np\n",
                "import matplotlib.pyplot as plt"
            ],
            "outputs": [],
            "metadata": {}
        },
        {
            "cell_type": "code",
            "execution_count": 16,
            "source": [
                "kps = tf.cast(tf.random.uniform(shape=[14, 2], minval=0, maxval=160, dtype=tf.int32), tf.float32)"
            ],
            "outputs": [],
            "metadata": {}
        },
        {
            "cell_type": "code",
            "execution_count": 17,
            "source": [
                "SKELETON = [(0, 1), (1, 2), (12, 2), (12, 3), (3, 4), (4, 5), (6, 7),\n",
                "            (7, 8), (8, 12), (12, 9), (9, 10), (10, 11), (12, 13)]"
            ],
            "outputs": [],
            "metadata": {}
        },
        {
            "cell_type": "code",
            "execution_count": 35,
            "source": [
                "sks = tf.stack([tf.gather(kps, sk_idxs) for sk_idxs in SKELETON], axis=0)\n",
                "d   = tf.sqrt(tf.pow(sks[:,0,0] - sks[:,1,0], 2) + tf.pow(sks[:,0,1] - sks[:,1,1], 2))\n",
                "sks.shape, d.shape"
            ],
            "outputs": [
                {
                    "output_type": "execute_result",
                    "data": {
                        "text/plain": [
                            "(TensorShape([13, 2, 2]), TensorShape([13]))"
                        ]
                    },
                    "metadata": {},
                    "execution_count": 35
                }
            ],
            "metadata": {}
        },
        {
            "cell_type": "code",
            "execution_count": 64,
            "source": [
                "def l2_distance(p1, p2):\n",
                "    \"\"\" \n",
                "    Computes the Euclidean distance between two points p1 and p2 in tensorflow.\n",
                "    Args:\n",
                "        p1: shape [B, P, 2]\n",
                "        p2: shape [B, P, 2]\n",
                "    Returns:\n",
                "        l2_distance: shape [B, P]\n",
                "    E.g.\n",
                "        l2_distance(tf.constant([[1,2],[3,4]]), tf.constant([[1,1],[1,1]]))\n",
                "    \"\"\"\n",
                "    p1 = tf.cast(p1, tf.float32)\n",
                "    p2 = tf.cast(p2, tf.float32)\n",
                "    return tf.sqrt(tf.reduce_sum(tf.square(tf.subtract(p1, p2)), 2))\n",
                "\n",
                "# EXample:\n",
                "p1 = tf.constant([[5, 6], [1,2],[3,4]]); p2 = tf.constant([[5, 5],[1,1],[1,1]])\n",
                "p1 = tf.expand_dims(p1, 0); p2 = tf.expand_dims(p2, 0)\n",
                "print(p1.shape, p2.shape)\n",
                "print('distance:',l2_distance(p1, p2))"
            ],
            "outputs": [
                {
                    "output_type": "stream",
                    "name": "stdout",
                    "text": [
                        "(1, 3, 2) (1, 3, 2)\n",
                        "distance: tf.Tensor([[1.        1.        3.6055512]], shape=(1, 3), dtype=float32)\n"
                    ]
                }
            ],
            "metadata": {}
        },
        {
            "cell_type": "code",
            "execution_count": 58,
            "source": [
                "l2_distance(sks[:,0,:],sks[:,1,:])"
            ],
            "outputs": [
                {
                    "output_type": "execute_result",
                    "data": {
                        "text/plain": [
                            "<tf.Tensor: shape=(13,), dtype=float32, numpy=\n",
                            "array([ 34.205257 ,  13.1529455,  60.00833  ,  40.81666  ,  86.127815 ,\n",
                            "       156.92354  , 105.550934 ,  97.00515  ,  71.19691  ,  54.378304 ,\n",
                            "       121.82774  , 122.57651  ,  67.95587  ], dtype=float32)>"
                        ]
                    },
                    "metadata": {},
                    "execution_count": 58
                }
            ],
            "metadata": {}
        },
        {
            "cell_type": "code",
            "execution_count": 107,
            "source": [
                "def middle_point(l):\n",
                "    \"\"\" Computes middle point of a line in tensorflow.\n",
                "    Args:\n",
                "        l: shape [batch_size, num_points, 2, 2].\n",
                "    Returns:\n",
                "        p_mid: shape [batch_size, num_points, 2].              \n",
                "    \"\"\"\n",
                "    p1 = l[:, :, 0, :]\n",
                "    p2 = l[:, :, 1, :]\n",
                "    p_mid = (p1 + p2) / 2\n",
                "    return p_mid\n",
                "    \n",
                "p_mid = middle_point(sks[None,])\n",
                "p_mid"
            ],
            "outputs": [
                {
                    "output_type": "execute_result",
                    "data": {
                        "text/plain": [
                            "<tf.Tensor: shape=(1, 13, 2), dtype=float32, numpy=\n",
                            "array([[[ 31.5,  97.5],\n",
                            "        [ 35.5, 112. ],\n",
                            "        [ 56.5, 101. ],\n",
                            "        [ 94.5, 106.5],\n",
                            "        [ 63.5, 135.5],\n",
                            "        [ 62. ,  79.5],\n",
                            "        [ 71.5,  32. ],\n",
                            "        [ 70.5,  54.5],\n",
                            "        [ 53. ,  71.5],\n",
                            "        [107. , 103.5],\n",
                            "        [ 84.5,  77.5],\n",
                            "        [ 99. ,  49.5],\n",
                            "        [ 55.5,  70.5]]], dtype=float32)>"
                        ]
                    },
                    "metadata": {},
                    "execution_count": 107
                }
            ],
            "metadata": {}
        },
        {
            "cell_type": "code",
            "execution_count": 111,
            "source": [
                "l2_distance(p_mid, p_mid+2*tf.random.normal(shape=p_mid.shape))"
            ],
            "outputs": [
                {
                    "output_type": "execute_result",
                    "data": {
                        "text/plain": [
                            "<tf.Tensor: shape=(1, 13), dtype=float32, numpy=\n",
                            "array([[5.7350497 , 2.3715541 , 2.7002544 , 1.2125428 , 2.0842445 ,\n",
                            "        0.23892768, 3.5323007 , 3.2010846 , 5.0361056 , 0.6863301 ,\n",
                            "        3.349906  , 1.4260238 , 0.31544718]], dtype=float32)>"
                        ]
                    },
                    "metadata": {},
                    "execution_count": 111
                }
            ],
            "metadata": {}
        },
        {
            "cell_type": "code",
            "execution_count": 26,
            "source": [
                "# def distance(point1, point2):\n",
                "#     l2_norm = tf.norm(point1-point2, ord='euclidean')\n",
                "#     return l2_norm\n",
                "# distance(sk[0],sk[1])"
            ],
            "outputs": [
                {
                    "output_type": "execute_result",
                    "data": {
                        "text/plain": [
                            "<tf.Tensor: shape=(), dtype=float32, numpy=34.20526>"
                        ]
                    },
                    "metadata": {},
                    "execution_count": 26
                }
            ],
            "metadata": {}
        },
        {
            "cell_type": "code",
            "execution_count": 68,
            "source": [
                "sks.shape"
            ],
            "outputs": [
                {
                    "output_type": "execute_result",
                    "data": {
                        "text/plain": [
                            "TensorShape([13, 2, 2])"
                        ]
                    },
                    "metadata": {},
                    "execution_count": 68
                }
            ],
            "metadata": {}
        },
        {
            "cell_type": "code",
            "execution_count": 87,
            "source": [
                "def angle(l1, l2):\n",
                "    \"\"\" Calculate angle between two lines in tensorflow.\n",
                "    Args:\n",
                "        l1: tensor of shape [batch_size, num_points, 2, 2]\n",
                "        l2: tensor of shape [batch_size, num_points, 2, 2]\n",
                "    Returns:\n",
                "        tensor of shape [batch_size, num_points]                       \n",
                "    \"\"\"\n",
                "    l1 = l1[:, :, 0, :] - l1[:, :, 1, :]\n",
                "    l2 = l2[:, :, 0, :] - l2[:, :, 1, :]\n",
                "    l1_norm = tf.sqrt(tf.reduce_sum(tf.square(l1), axis=-1, keepdims=True))\n",
                "    l2_norm = tf.sqrt(tf.reduce_sum(tf.square(l2), axis=-1, keepdims=True))\n",
                "    l1 = tf.math.divide_no_nan(l1,l1_norm)\n",
                "    l2 = tf.math.divide_no_nan(l2,l2_norm)\n",
                "    angle = tf.reduce_sum(tf.multiply(l1, l2), axis=-1)\n",
                "    print(angle)\n",
                "    angle = tf.acos(angle)\n",
                "    return angle\n",
                "\n",
                "# l1 = tf.constant([[1, 0], [0, 1], [1, 0], [0, 1]], dtype=tf.float32)[None,]\n",
                "# l2 = tf.constant([[1, 0], [0, 1], [1, 0], [0, 1]], dtype=tf.float32)[None,]\n",
                "l1 = sks[None,]+2*tf.random.normal(shape=[1,2,2])\n",
                "l2 = sks[None,]\n",
                "print(l1.shape, l2.shape)\n",
                "angle(l1, l2)*180/tf.constant(np.pi)\n"
            ],
            "outputs": [
                {
                    "output_type": "stream",
                    "name": "stdout",
                    "text": [
                        "(1, 13, 2, 2) (1, 13, 2, 2)\n",
                        "tf.Tensor(\n",
                        "[[0.9971451  0.99941194 0.99977505 0.9976943  0.999947   0.9998433\n",
                        "  0.99991965 1.         0.9997661  0.99951273 0.9998657  0.99998885\n",
                        "  0.9997275 ]], shape=(1, 13), dtype=float32)\n"
                    ]
                },
                {
                    "output_type": "execute_result",
                    "data": {
                        "text/plain": [
                            "<tf.Tensor: shape=(1, 13), dtype=float32, numpy=\n",
                            "array([[4.330472  , 1.9650315 , 1.2153091 , 3.891538  , 0.58983487,\n",
                            "        1.0143285 , 0.72631586, 0.        , 1.2392263 , 1.7887069 ,\n",
                            "        0.93899465, 0.2705197 , 1.3376442 ]], dtype=float32)>"
                        ]
                    },
                    "metadata": {},
                    "execution_count": 87
                }
            ],
            "metadata": {}
        },
        {
            "cell_type": "code",
            "execution_count": 73,
            "source": [
                "sks.shape"
            ],
            "outputs": [
                {
                    "output_type": "execute_result",
                    "data": {
                        "text/plain": [
                            "TensorShape([13, 2, 2])"
                        ]
                    },
                    "metadata": {},
                    "execution_count": 73
                }
            ],
            "metadata": {}
        },
        {
            "cell_type": "code",
            "execution_count": 106,
            "source": [
                "def angle(l1, l2):\n",
                "    \"\"\" Calculate angle between two lines using tf.atan tensorflow.\n",
                "    Args:\n",
                "        l1: tensor of shape [batch_size, num_points, 2, 2]\n",
                "        l2: tensor of shape [batch_size, num_points, 2, 2]\n",
                "    Returns:\n",
                "        tensor of shape [batch_size, num_points] \n",
                "    \"\"\"\n",
                "    l11 = l1[:, :, 0, :] # first point of l1\n",
                "    l12 = l1[:, :, 1, :] # second point of l1\n",
                "    l21 = l2[:, :, 0, :] # first point of l2\n",
                "    l22 = l2[:, :, 1, :] # second point of l2\n",
                "\n",
                "    m1 = (l12[...,1] - l11[...,1]) / (l12[...,0] - l11[...,0]) # theta = atan((y2 - y1) / (x2 - x1))\n",
                "    angle1 = tf.atan(m1)\n",
                "\n",
                "    m2 = (l22[...,1] - l21[...,1]) / (l22[...,0] - l21[...,0])\n",
                "    angle2 = tf.atan(m2)\n",
                "\n",
                "    return tf.abs(angle1 - angle2)\n",
                "\n",
                "l1 = sks[None,]+2*tf.random.normal(shape=[1,2,2], seed=10)\n",
                "l2 = sks[None,]\n",
                "print(l1.shape, l2.shape)\n",
                "angle(l1, l2)*180/tf.constant(np.pi)\n"
            ],
            "outputs": [
                {
                    "output_type": "stream",
                    "name": "stdout",
                    "text": [
                        "(1, 13, 2, 2) (1, 13, 2, 2)\n"
                    ]
                },
                {
                    "output_type": "execute_result",
                    "data": {
                        "text/plain": [
                            "<tf.Tensor: shape=(1, 13), dtype=float32, numpy=\n",
                            "array([[3.2594924 , 4.4772916 , 0.41407168, 2.739944  , 0.46486267,\n",
                            "        0.27947083, 0.9262436 , 0.698641  , 1.4128435 , 1.8848213 ,\n",
                            "        0.9001677 , 0.6685577 , 1.552461  ]], dtype=float32)>"
                        ]
                    },
                    "metadata": {},
                    "execution_count": 106
                }
            ],
            "metadata": {}
        },
        {
            "cell_type": "code",
            "execution_count": 140,
            "source": [
                "def point_to_heatmap(KPS, height=160, width= 120, probability_descending_slope = 10):\n",
                "    KPS = tf.constant(KPS, dtype=tf.float32)\n",
                "    X = KPS[:, 0]\n",
                "    Y = KPS[:, 1]\n",
                "    assert (X.shape==Y.shape), 'Invalid Key-point matrix shape'\n",
                "    \n",
                "    def exp_square(z, peak_z, taw = probability_descending_slope):\n",
                "        return tf.math.exp((-1)*taw*(z[0]-peak_z[0])**2/width), tf.math.exp((-1)*taw*(z[1]-peak_z[1])**2/height)\n",
                "    \n",
                "    keypoints= X.shape[0]\n",
                "    mask = tf.ones((height, width, keypoints), dtype= tf.float32)\n",
                "    hms = []\n",
                "    for i in tf.range(keypoints):\n",
                "        temp_x = tf.cast( tf.linspace(0,width-1, width), tf.float32)\n",
                "        temp_y = tf.cast(tf.linspace(0,height-1, height), tf.float32)\n",
                "        temp_x, temp_y = exp_square([temp_x, temp_y], [X[i], Y[i]])\n",
                "        hm = mask[:,:,i] * np.reshape(temp_x,(1,-1)) * np.reshape(temp_y,(-1,1))\n",
                "        hms.append(hm)\n",
                "    hms = tf.stack(hms, axis=-1)\n",
                "    hms = hms*tf.cast(hms>=0.1, tf.float32) # removing values less than 0.1\n",
                "    hms = tf.cast(hms*255, tf.uint8)\n",
                "    return hms"
            ],
            "outputs": [],
            "metadata": {}
        },
        {
            "cell_type": "code",
            "execution_count": 141,
            "source": [
                "X= [20, 30, 40, 50, 30, 70, 100, 100, 60,  50,  60, 44,  88, 66 ]\n",
                "Y= [30, 40, 50, 90, 44, 88,  66,  77, 29, 133, 144, 111, 20, 30 ]\n",
                "KPS = kps\n",
                "mask = point_to_heatmap(KPS, probability_descending_slope = 10)  \n",
                "# lowering 'probability_descending_slope' will make the masks more spread out;\n",
                "# and gradually increasing it will make it converge into a single point ... Try it out to see.\n",
                "# Remains good between (1 to 4)\n",
                "\n",
                "plt.figure(figsize=(15,12))\n",
                "for i in range(14):\n",
                "    \n",
                "#     mask = (mask*255.0).astype(np.uint8)\n",
                "    plt.subplot(3,5,i+1), plt.imshow(mask[:,:,i])\n",
                "    plt.axis('off')"
            ],
            "outputs": [
                {
                    "output_type": "display_data",
                    "data": {
                        "text/plain": [
                            "<Figure size 1080x864 with 14 Axes>"
                        ],
                        "image/png": "[encoded data removed]"
                    },
                    "metadata": {
                        "needs_background": "light"
                    }
                }
            ],
            "metadata": {}
        },
        {
            "cell_type": "code",
            "execution_count": 131,
            "source": [
                "tf.unravel_index(tf.argmax(mask[...,0], axis=None), mask[...,0].shape)"
            ],
            "outputs": [
                {
                    "output_type": "execute_result",
                    "data": {
                        "text/plain": [
                            "<tf.Tensor: shape=(2, 120), dtype=int64, numpy=\n",
                            "array([[ 0,  0,  0,  0,  0,  0,  0,  0,  0,  0,  0,  0,  0,  0,  0,  0,\n",
                            "         0,  0,  0,  0,  0,  0,  0,  0,  0,  0,  0,  0,  0,  0,  0,  0,\n",
                            "         0,  0,  0,  0,  0,  0,  0,  0,  0,  0,  0,  0,  0,  0,  0,  0,\n",
                            "         0,  0,  0,  0,  0,  0,  0,  0,  0,  0,  0,  0,  0,  0,  0,  0,\n",
                            "         0,  0,  0,  0,  0,  0,  0,  0,  0,  0,  0,  0,  0,  0,  0,  0,\n",
                            "         0,  0,  0,  0,  0,  0,  0,  0,  0,  0,  0,  0,  0,  0,  0,  0,\n",
                            "         0,  0,  0,  0,  0,  0,  0,  0,  0,  0,  0,  0,  0,  0,  0,  0,\n",
                            "         0,  0,  0,  0,  0,  0,  0,  0],\n",
                            "       [ 0,  0,  0,  0,  0,  0,  0,  0,  0,  0, 81, 82, 83, 83, 84, 84,\n",
                            "        84, 84, 84, 84, 84, 84, 84, 84, 84, 84, 84, 84, 84, 83, 83, 82,\n",
                            "        81,  0,  0,  0,  0,  0,  0,  0,  0,  0,  0,  0,  0,  0,  0,  0,\n",
                            "         0,  0,  0,  0,  0,  0,  0,  0,  0,  0,  0,  0,  0,  0,  0,  0,\n",
                            "         0,  0,  0,  0,  0,  0,  0,  0,  0,  0,  0,  0,  0,  0,  0,  0,\n",
                            "         0,  0,  0,  0,  0,  0,  0,  0,  0,  0,  0,  0,  0,  0,  0,  0,\n",
                            "         0,  0,  0,  0,  0,  0,  0,  0,  0,  0,  0,  0,  0,  0,  0,  0,\n",
                            "         0,  0,  0,  0,  0,  0,  0,  0]])>"
                        ]
                    },
                    "metadata": {},
                    "execution_count": 131
                }
            ],
            "metadata": {}
        },
        {
            "cell_type": "code",
            "execution_count": 156,
            "source": [
                "tf.unravel_index(tf.math.argmax(tf.reshape(mask[...,1], -1)), mask[...,1].shape)"
            ],
            "outputs": [
                {
                    "output_type": "execute_result",
                    "data": {
                        "text/plain": [
                            "<tf.Tensor: shape=(2,), dtype=int64, numpy=array([111,  42])>"
                        ]
                    },
                    "metadata": {},
                    "execution_count": 156
                }
            ],
            "metadata": {}
        },
        {
            "cell_type": "code",
            "execution_count": 157,
            "source": [
                "np.unravel_index(np.argmax(mask[...,1]), mask[...,1].shape)"
            ],
            "outputs": [
                {
                    "output_type": "execute_result",
                    "data": {
                        "text/plain": [
                            "(111, 42)"
                        ]
                    },
                    "metadata": {},
                    "execution_count": 157
                }
            ],
            "metadata": {}
        },
        {
            "cell_type": "code",
            "execution_count": 136,
            "source": [
                "mask[...,0].shape"
            ],
            "outputs": [
                {
                    "output_type": "execute_result",
                    "data": {
                        "text/plain": [
                            "TensorShape([160, 120])"
                        ]
                    },
                    "metadata": {},
                    "execution_count": 136
                }
            ],
            "metadata": {}
        },
        {
            "cell_type": "code",
            "execution_count": null,
            "source": [],
            "outputs": [],
            "metadata": {}
        }
    ],
    "metadata": {
        "orig_nbformat": 4,
        "language_info": {
            "name": "python",
            "version": "3.7.5",
            "mimetype": "text/x-python",
            "codemirror_mode": {
                "name": "ipython",
                "version": 3
            },
            "pygments_lexer": "ipython3",
            "nbconvert_exporter": "python",
            "file_extension": ".py"
        },
        "kernelspec": {
            "name": "python3",
            "display_name": "Python 3.7.5 64-bit"
        },
        "interpreter": {
            "hash": "31f2aee4e71d21fbe5cf8b01ff0e069b9275f58929596ceb00d14d90e3e16cd6"
        }
    },
    "nbformat": 4,
    "nbformat_minor": 2
}