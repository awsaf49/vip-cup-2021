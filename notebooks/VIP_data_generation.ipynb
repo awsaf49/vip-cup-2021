{
  "nbformat": 4,
  "nbformat_minor": 0,
  "metadata": {
    "colab": {
      "name": "VIP data generation.ipynb",
      "provenance": []
    },
    "kernelspec": {
      "name": "python3",
      "display_name": "Python 3"
    },
    "language_info": {
      "name": "python"
    }
  },
  "cells": [
    {
      "cell_type": "code",
      "metadata": {
        "colab": {
          "resources": {
            "http://localhost:8080/nbextensions/google.colab/files.js": {
              "data": "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",
              "ok": true,
              "headers": [
                [
                  "content-type",
                  "application/javascript"
                ]
              ],
              "status": 200,
              "status_text": ""
            }
          },
          "base_uri": "https://localhost:8080/",
          "height": 70
        },
        "id": "lAymmFNeYI5x",
        "outputId": "f5fef48f-af99-4944-f6fa-4ff8a44c7db6"
      },
      "source": [
        "# # Input your kaggle json file\n",
        "\n",
        "# from google.colab import files \n",
        "# data_to_load = files.upload()"
      ],
      "execution_count": null,
      "outputs": [
        {
          "output_type": "display_data",
          "data": {
            "text/html": [
              "\n",
              "     <input type=\"file\" id=\"files-5a3e937b-47fd-4002-a1fb-b8b317857f90\" name=\"files[]\" multiple disabled\n",
              "        style=\"border:none\" />\n",
              "     <output id=\"result-5a3e937b-47fd-4002-a1fb-b8b317857f90\">\n",
              "      Upload widget is only available when the cell has been executed in the\n",
              "      current browser session. Please rerun this cell to enable.\n",
              "      </output>\n",
              "      <script src=\"/nbextensions/google.colab/files.js\"></script> "
            ],
            "text/plain": [
              "<IPython.core.display.HTML object>"
            ]
          },
          "metadata": {
            "tags": []
          }
        },
        {
          "output_type": "stream",
          "text": [
            "Saving kaggle.json to kaggle.json\n"
          ],
          "name": "stdout"
        }
      ]
    },
    {
      "cell_type": "code",
      "metadata": {
        "colab": {
          "base_uri": "https://localhost:8080/"
        },
        "id": "5sLB4TCqYJgY",
        "outputId": "ba2db162-66af-408a-ae49-6aac09495a32"
      },
      "source": [
        "# !pip install -q kaggle\n",
        "# !mkdir -p ~/.kaggle\n",
        "# !cp kaggle.json ~/.kaggle/\n",
        "# !ls ~/.kaggle\n",
        "# !chmod 600 /root/.kaggle/kaggle.json "
      ],
      "execution_count": null,
      "outputs": [
        {
          "output_type": "stream",
          "text": [
            "kaggle.json\n"
          ],
          "name": "stdout"
        }
      ]
    },
    {
      "cell_type": "code",
      "metadata": {
        "id": "g2ZnZMv6dh4_"
      },
      "source": [
        "DATA_DIR='/content/vipdata' ## where the data location would be"
      ],
      "execution_count": null,
      "outputs": []
    },
    {
      "cell_type": "markdown",
      "metadata": {
        "id": "fyQS00ALcJso"
      },
      "source": [
        "The dataset should be in the format below: \n",
        "\n",
        "```\n",
        "DATA_DIR\n",
        "> train\n",
        "--> train\n",
        "----> 00001\n",
        "----> 00002\n",
        "      .....\n",
        "\n",
        "> valid\n",
        "--> valid\n",
        "----> 00081\n",
        "----> 00082\n",
        "      .....\n",
        "\n",
        "> test1\n",
        "--> test1\n",
        "----> 00001\n",
        "----> 00002\n",
        "      .....\n",
        "\n",
        "```"
      ]
    },
    {
      "cell_type": "code",
      "metadata": {
        "colab": {
          "base_uri": "https://localhost:8080/"
        },
        "id": "VA9VvC3VYKce",
        "outputId": "15552817-4b62-42a5-ba6d-e7a1386e3abe"
      },
      "source": [
        "!mkdir vipdata\n",
        "%cd vipdata\n",
        "!kaggle datasets download -d awsaf49/ieee-vip-cup-2021-train-val-dataset --unzip\n",
        "%cd .."
      ],
      "execution_count": null,
      "outputs": [
        {
          "output_type": "stream",
          "text": [
            "/content/vipdata\n",
            "Downloading ieee-vip-cup-2021-train-val-dataset.zip to /content/vipdata\n",
            "100% 3.16G/3.16G [00:53<00:00, 29.3MB/s]\n",
            "100% 3.16G/3.16G [00:53<00:00, 63.1MB/s]\n",
            "/content\n"
          ],
          "name": "stdout"
        }
      ]
    },
    {
      "cell_type": "code",
      "metadata": {
        "colab": {
          "base_uri": "https://localhost:8080/"
        },
        "id": "eF1pOmaXYYHm",
        "outputId": "44bc775a-e60d-47dd-ebed-9f118e7a298c"
      },
      "source": [
        "%%writefile generate_cover.py\n",
        "\n",
        "import argparse\n",
        "import pandas as pd\n",
        "import numpy as np\n",
        "import matplotlib.pyplot as plt\n",
        "import cv2,os\n",
        "from glob import glob\n",
        "import scipy.io as scio\n",
        "import scipy\n",
        "import shutil\n",
        "from matplotlib.colors import rgb2hex\n",
        "from skimage.morphology import reconstruction\n",
        "from skimage.morphology import disk\n",
        "from skimage.filters.rank import gradient\n",
        "import skimage\n",
        "from tqdm import tqdm\n",
        "os.system('pip install git+https://github.com/albumentations-team/albumentations')\n",
        "import albumentations as A\n",
        "\n",
        "kplines = [(0, 1), (1, 2), (12, 2), (12, 3), (3, 4), (4, 5), (6, 7),\n",
        "            (7, 8), (8, 12), (12, 9), (9, 10), (10, 11), (12, 13)]\n",
        "name2idx = {\n",
        "    \"Right ankle\":0,\n",
        "    \"Right knee\":1,\n",
        "    \"Right hip\":2,\n",
        "    \"Left hip\":3,\n",
        "    \"Left knee\":4,\n",
        "    \"Left ankle\":5,\n",
        "    \"Right wrist\":6,\n",
        "    \"Right elbow\":7,\n",
        "    \"Right shoulder\":8,\n",
        "    \"Left shoulder\":9,\n",
        "    \"Left elbow\":10,\n",
        "    \"Left wrist\":11,\n",
        "    \"Thorax\":12,\n",
        "    \"Head top\":13, \n",
        "}\n",
        "idx2name = {v:k for k,v in name2idx.items()}\n",
        "\n",
        "def load_kps(kp_path):\n",
        "    gt  = scio.loadmat(kp_path)['joints_gt']\n",
        "    kps = gt[:2].transpose(2, 1, 0) # => (num_image, num_limb, 2) => (None, 14, 2)\n",
        "    return kps.astype(int)\n",
        "\n",
        "def draw_kp(img, kps, kplines, line_th=1, circle_th=2, fontScale=1, text_th =2, text=False):\n",
        "    \"\"\"\n",
        "    Args:\n",
        "        img      : image (R, G, B)\n",
        "        kps      : keypoints (num_points, 2)\n",
        "        kplines  : limb line tuple index\n",
        "        text     : show text or not\n",
        "    Returns:\n",
        "        drew image\n",
        "    \"\"\"\n",
        "    cmap   = plt.get_cmap('rainbow')\n",
        "    colors = [cmap(i) for i in np.linspace(0, 1, len(kps) + 2)]\n",
        "    colors = [(c[2] * 255, c[1] * 255, c[0] * 255) for c in colors]\n",
        "    for idx, kpline in enumerate(kplines):\n",
        "        img = cv2.line(img.astype(float), tuple(kps[kpline[0]]), tuple(kps[kpline[1]]), thickness=line_th,\n",
        "                       color=colors[idx], lineType=cv2.LINE_AA)\n",
        "    for idx in range(len(kps)):\n",
        "        color = colors[idx]\n",
        "        img = cv2.circle(img.astype(float),tuple(kps[idx]), circle_th, color , cv2.FILLED)\n",
        "        if text:\n",
        "            w = img.shape[1]\n",
        "            px = kps[idx][0]\n",
        "            py = kps[idx][1]\n",
        "            if px>w//2:\n",
        "                px+=10\n",
        "                color = (255,0,0)\n",
        "            else:\n",
        "                px-=30\n",
        "                color = (0,0,255)\n",
        "            img = cv2.putText(img, str(idx), (px, py), cv2.FONT_HERSHEY_SIMPLEX, \n",
        "                               fontScale=fontScale, color=color, thickness=text_th, lineType=cv2.LINE_AA)\n",
        "    return img.astype('uint8')\n",
        "\n",
        "\n",
        "            \n",
        "def apply_selective_thorax(main_img,transformed_image,point):\n",
        "    extra=int(point)\n",
        "    new_img=main_img.copy()\n",
        "    new_img[extra:,:]=transformed_image[extra:,:]\n",
        "    return new_img\n",
        "\n",
        "def pad_across_width(image):\n",
        "    shapes=image.shape\n",
        "    h=shapes[0]\n",
        "    w=shapes[1]\n",
        "    if len(shapes)>2:\n",
        "        c=shapes[-1]\n",
        "\n",
        "    diff=h-w\n",
        "    side1=int(diff/2)\n",
        "    side2=diff-side1\n",
        "\n",
        "    s1=np.zeros((h,side1)).astype(image.dtype) if len(shapes)==2 else np.zeros((h,side1,c)).astype(image.dtype) \n",
        "    s2=np.zeros((h,side2)).astype(image.dtype) if len(shapes)==2 else np.zeros((h,side2,c)).astype(image.dtype) \n",
        "\n",
        "    new_image=image.copy()\n",
        "    new_image=np.concatenate([s1,new_image,s2],axis=1)\n",
        "    return new_image\n",
        "tpoint=name2idx[\"Thorax\"]\n",
        "\n",
        "def cover_gen(points,image,return_coord=False):\n",
        "    cover=np.zeros(image.shape,dtype=image.dtype)\n",
        "    \n",
        "    cover_corner_right=points[:,0].max()+20\n",
        "    cover_corner_left=points[:,0].min()-20\n",
        "    low=150\n",
        "    hthorax=points[tpoint][1]\n",
        "\n",
        "    if len(image.shape)>2:\n",
        "        cover[hthorax:low,cover_corner_left:cover_corner_right,0]=1# if image.dtype=='uint8' else 255.0\n",
        "        cover=cover[:,:,0]\n",
        "    else:\n",
        "        cover[hthorax:low,cover_corner_left:cover_corner_right]=1 #if image.dtype=='uint8' else 255.0\n",
        "    \n",
        "    if return_coord:\n",
        "        return ((cover_corner_left,hthorax),(cover_corner_right,low)),cover\n",
        "    return cover\n",
        "\n",
        "def combine(image,path1,path2):\n",
        "    albu=A.Compose([\n",
        "                   A.augmentations.domain_adaptation.HistogramMatching(path2,blend_ratio=(0.5, 0.9),p=1),\n",
        "    A.augmentations.domain_adaptation.FDA(path1,p=1,beta_limit=0.05)])\n",
        "    albu_im= albu(image=image)['image']\n",
        "    return albu_im\n",
        "\n",
        "def combiner(image1,image2,cover,final_channel=1):\n",
        "    if len(cover.shape)==2:\n",
        "        cover=np.expand_dims(cover,axis=-1)\n",
        "    if len(image2.shape)==2:\n",
        "        image2=np.expand_dims(image2,axis=-1)\n",
        "    \n",
        "    if len(image1.shape)>2&image1.shape[-1]!=1:\n",
        "        image1=np.expand_dims(image1[:,:,0],axis=-1)\n",
        "    \n",
        "    total=(1-cover)*image1+cover*image2\n",
        "    if final_channel==3:\n",
        "        return np.stack([total,total,total])\n",
        "    return total\n",
        "\n",
        "if __name__ == '__main__':\n",
        "    parser = argparse.ArgumentParser()\n",
        "    parser.add_argument('--data-dir', type=str, default='/kaggle/input/ieee-vip-cup-2021-train-val-dataset/', help='main directory of data')\n",
        "    parser.add_argument('--save-dir', type=str, default='/kaggle/working/VIP',help=\"where to save files, a new directory\")\n",
        "    opt = parser.parse_args()\n",
        "    \n",
        "    save_at=opt.save_dir#'/kaggle/working'\n",
        "    global_path=opt.data_dir\n",
        "    \n",
        "#     if os.path.exists(save_at):\n",
        "#         save_at=os.path.join(save_at,'VIP')\n",
        "        \n",
        "    print('Copying ...')\n",
        "    try:\n",
        "        shutil.copytree(global_path,save_at)\n",
        "    except:\n",
        "        shutil.rmtree(save_at)\n",
        "        shutil.copytree(global_path,save_at)\n",
        "    \n",
        "    print('Finding Train statistics...')\n",
        "    \n",
        "    uncover=[]\n",
        "    cover1=[]\n",
        "    cover2=[]\n",
        "    files_dir=os.path.join(global_path,'train')\n",
        "    if len(os.listdir(files_dir))<4:\n",
        "        files_dir=os.path.join(files_dir,'train')\n",
        "    files=os.listdir(files_dir)\n",
        "    uncover_images_list=[]\n",
        "    for f in files:\n",
        "        current_dir=os.path.join(files_dir,f,'IR')\n",
        "        if 'uncover' in os.listdir(current_dir):\n",
        "            uncover.append(f)\n",
        "            uncover_images_list.extend(glob(os.path.join(current_dir,'uncover/*')))\n",
        "\n",
        "        if 'cover1' in os.listdir(current_dir):\n",
        "            cover1.append(f)\n",
        "        if 'cover2' in os.listdir(current_dir):\n",
        "            cover2.append(f)\n",
        "\n",
        "    print(f'Uncover dirs : {len(uncover)}, Total files: {len(uncover_images_list)}')\n",
        "    print(f'Cover1 dirs : {len(cover1)}')\n",
        "    print(f'Cover2 dirs : {len(cover2)}')\n",
        "    \n",
        "    cover2_path=['image_000027.png',\n",
        "     'image_000041.png',\n",
        "     'image_000038.png',\n",
        "     'image_000023.png']\n",
        "    \n",
        "    cover2_path=[os.path.join(files_dir,'00062/IR/cover2',i) for i in cover2_path]\n",
        "    print('Selected cover images are : ',cover2_path)\n",
        "    \n",
        "    copy_dir=os.path.join(save_at,'train')\n",
        "    if len(os.listdir(copy_dir))<5:\n",
        "        copy_dir=os.path.join(copy_dir,'train')\n",
        "        \n",
        "    print('Generating cover images from uncover')   \n",
        "    for file_num in tqdm(sorted(uncover)):\n",
        "        image_dir=sorted(glob(os.path.join(copy_dir,file_num,'IR','uncover','*')))\n",
        "        keypoints_path=os.path.join(copy_dir,file_num,'joints_gt_IR.mat')\n",
        "\n",
        "        kp=load_kps(keypoints_path)\n",
        "        for i in range(len(image_dir)):\n",
        "            image_path=image_dir[i]\n",
        "\n",
        "            image=cv2.imread(image_path)\n",
        "            point=kp[i-1]\n",
        "            ((x1,y1),(x2,y2)),cover=cover_gen(point,image[:,:,0],return_coord=True)\n",
        "            final_im=combine(image,cover2_path,cover2_path)\n",
        "            final_im=combiner(image,final_im,cover)\n",
        "\n",
        "            cv2.imwrite(image_dir[i],final_im)\n",
        "    print('Completed')"
      ],
      "execution_count": null,
      "outputs": [
        {
          "output_type": "stream",
          "text": [
            "Writing generate_cover.py\n"
          ],
          "name": "stdout"
        }
      ]
    },
    {
      "cell_type": "code",
      "metadata": {
        "id": "EfMrhUdSYiIf"
      },
      "source": [
        "SAVE_DIR='/content/VIP'"
      ],
      "execution_count": null,
      "outputs": []
    },
    {
      "cell_type": "code",
      "metadata": {
        "colab": {
          "base_uri": "https://localhost:8080/"
        },
        "id": "VTYI1NpTYkoO",
        "outputId": "356d58a1-6b69-4679-bbdf-d9d20c6722d8"
      },
      "source": [
        "!python generate_cover.py --data-dir $DATA_DIR --save-dir $SAVE_DIR"
      ],
      "execution_count": null,
      "outputs": [
        {
          "output_type": "stream",
          "text": [
            "Collecting git+https://github.com/albumentations-team/albumentations\n",
            "  Cloning https://github.com/albumentations-team/albumentations to /tmp/pip-req-build-uth5rwu4\n",
            "  Running command git clone -q https://github.com/albumentations-team/albumentations /tmp/pip-req-build-uth5rwu4\n",
            "Requirement already satisfied: numpy>=1.11.1 in /usr/local/lib/python3.7/dist-packages (from albumentations==1.0.3) (1.19.5)\n",
            "Requirement already satisfied: scipy in /usr/local/lib/python3.7/dist-packages (from albumentations==1.0.3) (1.4.1)\n",
            "Requirement already satisfied: scikit-image>=0.16.1 in /usr/local/lib/python3.7/dist-packages (from albumentations==1.0.3) (0.16.2)\n",
            "Requirement already satisfied: PyYAML in /usr/local/lib/python3.7/dist-packages (from albumentations==1.0.3) (3.13)\n",
            "Requirement already satisfied: opencv-python>=4.1.1 in /usr/local/lib/python3.7/dist-packages (from albumentations==1.0.3) (4.1.2.30)\n",
            "Requirement already satisfied: PyWavelets>=0.4.0 in /usr/local/lib/python3.7/dist-packages (from scikit-image>=0.16.1->albumentations==1.0.3) (1.1.1)\n",
            "Requirement already satisfied: matplotlib!=3.0.0,>=2.0.0 in /usr/local/lib/python3.7/dist-packages (from scikit-image>=0.16.1->albumentations==1.0.3) (3.2.2)\n",
            "Requirement already satisfied: pillow>=4.3.0 in /usr/local/lib/python3.7/dist-packages (from scikit-image>=0.16.1->albumentations==1.0.3) (7.1.2)\n",
            "Requirement already satisfied: imageio>=2.3.0 in /usr/local/lib/python3.7/dist-packages (from scikit-image>=0.16.1->albumentations==1.0.3) (2.4.1)\n",
            "Requirement already satisfied: networkx>=2.0 in /usr/local/lib/python3.7/dist-packages (from scikit-image>=0.16.1->albumentations==1.0.3) (2.5.1)\n",
            "Requirement already satisfied: cycler>=0.10 in /usr/local/lib/python3.7/dist-packages (from matplotlib!=3.0.0,>=2.0.0->scikit-image>=0.16.1->albumentations==1.0.3) (0.10.0)\n",
            "Requirement already satisfied: pyparsing!=2.0.4,!=2.1.2,!=2.1.6,>=2.0.1 in /usr/local/lib/python3.7/dist-packages (from matplotlib!=3.0.0,>=2.0.0->scikit-image>=0.16.1->albumentations==1.0.3) (2.4.7)\n",
            "Requirement already satisfied: python-dateutil>=2.1 in /usr/local/lib/python3.7/dist-packages (from matplotlib!=3.0.0,>=2.0.0->scikit-image>=0.16.1->albumentations==1.0.3) (2.8.1)\n",
            "Requirement already satisfied: kiwisolver>=1.0.1 in /usr/local/lib/python3.7/dist-packages (from matplotlib!=3.0.0,>=2.0.0->scikit-image>=0.16.1->albumentations==1.0.3) (1.3.1)\n",
            "Requirement already satisfied: six in /usr/local/lib/python3.7/dist-packages (from cycler>=0.10->matplotlib!=3.0.0,>=2.0.0->scikit-image>=0.16.1->albumentations==1.0.3) (1.15.0)\n",
            "Requirement already satisfied: decorator<5,>=4.3 in /usr/local/lib/python3.7/dist-packages (from networkx>=2.0->scikit-image>=0.16.1->albumentations==1.0.3) (4.4.2)\n",
            "Building wheels for collected packages: albumentations\n",
            "  Building wheel for albumentations (setup.py) ... \u001b[?25l\u001b[?25hdone\n",
            "  Created wheel for albumentations: filename=albumentations-1.0.3-py3-none-any.whl size=98951 sha256=cf311f7b401af660691beb406699d8f961dcc2325eee2de67916cce22b170211\n",
            "  Stored in directory: /tmp/pip-ephem-wheel-cache-5ts0rqu9/wheels/3a/25/ed/ec3b518e7a332d7f0a3bb37c280e1b784cf2f79b94b3c7d00b\n",
            "Successfully built albumentations\n",
            "Installing collected packages: albumentations\n",
            "  Attempting uninstall: albumentations\n",
            "    Found existing installation: albumentations 0.1.12\n",
            "    Uninstalling albumentations-0.1.12:\n",
            "      Successfully uninstalled albumentations-0.1.12\n",
            "Successfully installed albumentations-1.0.3\n",
            "Copying ...\n",
            "Finding Train statistics...\n",
            "Uncover dirs : 30, Total files: 1350\n",
            "Cover1 dirs : 25\n",
            "Cover2 dirs : 25\n",
            "Selected cover images are :  ['/content/vipdata/train/train/00062/IR/cover2/image_000027.png', '/content/vipdata/train/train/00062/IR/cover2/image_000041.png', '/content/vipdata/train/train/00062/IR/cover2/image_000038.png', '/content/vipdata/train/train/00062/IR/cover2/image_000023.png']\n",
            "Generating cover images from uncover\n",
            "100% 30/30 [00:34<00:00,  1.14s/it]\n",
            "Completed\n"
          ],
          "name": "stdout"
        }
      ]
    }
  ]
}